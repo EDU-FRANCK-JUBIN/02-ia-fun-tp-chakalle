{
 "cells": [
  {
   "cell_type": "markdown",
   "metadata": {},
   "source": [
    "Il faut crée un environnement python 3.5 pour pouvoir installer matlab\n",
    "\n",
    "#### conda create -vv -n jmatlab python=3.5 jupyter\n",
    "\n",
    "Il faut installer matlab par le git sinon cela ne fonctionne pas\n",
    "\n",
    "#### pip install git+https://github.com/Calysto/matlab_kernel\n",
    "\n",
    "\n",
    "il faut ensuite lancer jupiter avec ce nouvelle environement\n",
    "\n",
    "puis créer un nouvelle page pas de type python3 mais de type Matlab\n",
    "\n",
    "\n",
    "https://www.ics.uci.edu/~majumder/VC/211HW3/vlfeat/doc/overview/sift.html"
   ]
  },
  {
   "cell_type": "code",
   "execution_count": null,
   "metadata": {},
   "outputs": [],
   "source": [
    "#test\n",
    "x=0:0.01:10;\n",
    "y=sin(x);\n",
    "plot(x,y)"
   ]
  },
  {
   "cell_type": "code",
   "execution_count": null,
   "metadata": {},
   "outputs": [],
   "source": [
    "I = vl_impattern('roofs1') ;\n",
    "image(I) ;"
   ]
  },
  {
   "cell_type": "code",
   "execution_count": null,
   "metadata": {},
   "outputs": [],
   "source": [
    "I = single(rgb2gray(I)) ;"
   ]
  },
  {
   "cell_type": "code",
   "execution_count": null,
   "metadata": {},
   "outputs": [],
   "source": [
    "[f,d] = vl_sift(I) ;"
   ]
  },
  {
   "cell_type": "code",
   "execution_count": null,
   "metadata": {},
   "outputs": [],
   "source": [
    "perm = randperm(size(f,2)) ;\n",
    "sel = perm(1:50) ;\n",
    "h1 = vl_plotframe(f(:,sel)) ;\n",
    "h2 = vl_plotframe(f(:,sel)) ;\n",
    "set(h1,'color','k','linewidth',3) ;\n",
    "set(h2,'color','y','linewidth',2) ;"
   ]
  },
  {
   "cell_type": "code",
   "execution_count": null,
   "metadata": {},
   "outputs": [],
   "source": [
    "h3 = vl_plotsiftdescriptor(d(:,sel),f(:,sel)) ;\n",
    "set(h3,'color','g') ;"
   ]
  },
  {
   "cell_type": "code",
   "execution_count": null,
   "metadata": {},
   "outputs": [],
   "source": [
    "[fa, da] = vl_sift(Ia) ;\n",
    "[fb, db] = vl_sift(Ib) ;\n",
    "[matches, scores] = vl_ubcmatch(da, db) ;"
   ]
  },
  {
   "cell_type": "code",
   "execution_count": null,
   "metadata": {},
   "outputs": [],
   "source": [
    "I = double(rand(100,500) <= .005) ;\n",
    "I = (ones(100,1) * linspace(0,1,500)) .* I ;\n",
    "I(:,1) = 0 ; I(:,end) = 0 ;\n",
    "I(1,:) = 0 ; I(end,:) = 0 ;\n",
    "I = 2*pi*4^2 * vl_imsmooth(I,4) ;\n",
    "I = single(255 * I) ;"
   ]
  },
  {
   "cell_type": "code",
   "execution_count": null,
   "metadata": {},
   "outputs": [],
   "source": [
    "f = vl_sift(I, 'PeakThresh', peak_thresh) ;"
   ]
  },
  {
   "cell_type": "code",
   "execution_count": null,
   "metadata": {},
   "outputs": [],
   "source": [
    "I = zeros(100,500) ;\n",
    "for i=[10 20 30 40 50 60 70 80 90]\n",
    "I(50-round(i/3):50+round(i/3),i*5) = 1 ;\n",
    "end\n",
    "I = 2*pi*8^2 * vl_imsmooth(I,8) ;\n",
    "I = single(255 * I) ;"
   ]
  },
  {
   "cell_type": "code",
   "execution_count": null,
   "metadata": {},
   "outputs": [],
   "source": [
    "f = vl_sift(I, 'edgethresh', edge_thresh) ;"
   ]
  },
  {
   "cell_type": "code",
   "execution_count": null,
   "metadata": {},
   "outputs": [],
   "source": [
    "fc = [100;100;10;-pi/8] ;\n",
    "[f,d] = vl_sift(I,'frames',fc) ;"
   ]
  },
  {
   "cell_type": "code",
   "execution_count": null,
   "metadata": {},
   "outputs": [],
   "source": [
    "fc = [100;100;10;0] ;\n",
    "[f,d] = vl_sift(I,'frames',fc,'orientations') ;"
   ]
  },
  {
   "cell_type": "code",
   "execution_count": null,
   "metadata": {},
   "outputs": [],
   "source": [
    "A = magic(4)"
   ]
  },
  {
   "cell_type": "code",
   "execution_count": null,
   "metadata": {},
   "outputs": [],
   "source": []
  }
 ],
 "metadata": {
  "kernelspec": {
   "display_name": "Matlab",
   "language": "matlab",
   "name": "matlab"
  },
  "language_info": {
   "codemirror_mode": "octave",
   "file_extension": ".m",
   "help_links": [
    {
     "text": "MetaKernel Magics",
     "url": "https://metakernel.readthedocs.io/en/latest/source/README.html"
    }
   ],
   "mimetype": "text/x-octave",
   "name": "matlab",
   "version": "0.16.8"
  }
 },
 "nbformat": 4,
 "nbformat_minor": 4
}
